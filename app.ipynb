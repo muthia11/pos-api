{
 "cells": [
  {
   "cell_type": "code",
   "execution_count": null,
   "id": "e7e31967",
   "metadata": {},
   "outputs": [
    {
     "name": "stdout",
     "output_type": "stream",
     "text": [
      " * Serving Flask app '__main__'\n",
      " * Debug mode: on\n"
     ]
    },
    {
     "name": "stderr",
     "output_type": "stream",
     "text": [
      "WARNING: This is a development server. Do not use it in a production deployment. Use a production WSGI server instead.\n",
      " * Running on http://127.0.0.1:5000\n",
      "Press CTRL+C to quit\n",
      " * Restarting with watchdog (windowsapi)\n"
     ]
    },
    {
     "ename": "SystemExit",
     "evalue": "1",
     "output_type": "error",
     "traceback": [
      "An exception has occurred, use %tb to see the full traceback.\n",
      "\u001b[1;31mSystemExit\u001b[0m\u001b[1;31m:\u001b[0m 1\n"
     ]
    },
    {
     "name": "stderr",
     "output_type": "stream",
     "text": [
      "c:\\ProgramData\\anaconda3\\lib\\site-packages\\IPython\\core\\interactiveshell.py:3468: UserWarning: To exit: use 'exit', 'quit', or Ctrl-D.\n",
      "  warn(\"To exit: use 'exit', 'quit', or Ctrl-D.\", stacklevel=1)\n"
     ]
    }
   ],
   "source": [
    "import streamlit as st\n",
    "import pandas as pd\n",
    "from geopy.distance import geodesic\n",
    "\n",
    "# Load data POS dari Excel\n",
    "df = pd.read_excel(\"pos_data.xlsx\", engine=\"openpyxl\")\n",
    "\n",
    "st.title(\"📍 Cek 3 POS Terdekat dari Lokasi Kamu\")\n",
    "\n",
    "# Ambil lokasi user (manual input, karena browser tidak bisa akses GPS via Streamlit)\n",
    "lat = st.number_input(\"Latitude Anda\", format=\"%.6f\")\n",
    "lon = st.number_input(\"Longitude Anda\", format=\"%.6f\")\n",
    "\n",
    "if st.button(\"Cek POS Terdekat\"):\n",
    "    user_loc = (lat, lon)\n",
    "    df[\"distance_km\"] = df.apply(lambda row: geodesic(user_loc, (row[\"lat\"], row[\"lon\"])).km, axis=1)\n",
    "    top3 = df.sort_values(\"distance_km\").head(3)\n",
    "\n",
    "    st.subheader(\"Top 3 POS Terdekat:\")\n",
    "    st.table(top3[[\"name\", \"lat\", \"lon\", \"distance_km\"]])\n"
   ]
  }
 ],
 "metadata": {
  "kernelspec": {
   "display_name": "base",
   "language": "python",
   "name": "python3"
  },
  "language_info": {
   "codemirror_mode": {
    "name": "ipython",
    "version": 3
   },
   "file_extension": ".py",
   "mimetype": "text/x-python",
   "name": "python",
   "nbconvert_exporter": "python",
   "pygments_lexer": "ipython3",
   "version": "3.10.9"
  }
 },
 "nbformat": 4,
 "nbformat_minor": 5
}
